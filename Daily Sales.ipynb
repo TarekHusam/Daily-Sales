{
 "cells": [
  {
   "cell_type": "markdown",
   "id": "364ed6a3",
   "metadata": {},
   "source": [
    "# Generate and send daily sales report from the Items and Sales data"
   ]
  },
  {
   "cell_type": "code",
   "execution_count": 1,
   "id": "f8a680b6",
   "metadata": {},
   "outputs": [
    {
     "name": "stdout",
     "output_type": "stream",
     "text": [
      "Saturday 16\n"
     ]
    }
   ],
   "source": [
    "##### CHANGE TO TIME DELTA - 1 !!!!!!!\n",
    "\n",
    "import datetime\n",
    "from datetime import timedelta\n",
    " \n",
    "sales_date = datetime.datetime.today() - timedelta(days=1)\n",
    "\n",
    "week_day=sales_date.strftime('%A') \n",
    "day_no=sales_date.day\n",
    "\n",
    "print(week_day, day_no)"
   ]
  },
  {
   "cell_type": "code",
   "execution_count": 2,
   "id": "7a7be9d8",
   "metadata": {},
   "outputs": [],
   "source": [
    "import pandas as pd # data manipulation\n",
    "\n",
    "\n",
    "_sales = pd.read_excel('Sales.xls')\n",
    "_items = pd.read_excel('Items.xls')\n",
    "\n",
    "ayla_sales = pd.read_excel('AylaSales.xls')\n",
    "ayla_items = pd.read_excel('AylaItems.xls')\n",
    "\n",
    "sales = pd.concat([_sales,ayla_sales])\n",
    "items = pd.concat([_items,ayla_items])\n",
    "\n",
    "branches_dict = {\n",
    "    2:'Abdoun',\n",
    "    3:'Khalda',\n",
    "    4:'Wadi Saqra',\n",
    "    5:'Airport',\n",
    "    6:'Warehouse1',\n",
    "    7:'J.Amman',\n",
    "    9:'Insurance',\n",
    "    10:'Abdoun 2',\n",
    "    11:'Madinah 1',\n",
    "    12:'Fifth Circle',\n",
    "    14:'Shmesani 1',\n",
    "    15:'Rabieah',\n",
    "    16:'Warehouse2',\n",
    "    17:'Madinah 2',\n",
    "    18:'Damged',\n",
    "    19:'Tender',\n",
    "    20:'Taybah',\n",
    "    23:'Specialist 1',\n",
    "    24:'Yadodah',\n",
    "    25:'Specialist 2',\n",
    "    26:'Malyah 2',\n",
    "    28:'Wehdat',\n",
    "    29:'Yasmin',\n",
    "    30:'Ghosheh St.',\n",
    "    34:'Store-Yasmin',\n",
    "    35:'Wrong Stock',\n",
    "    36:'Dabouq',\n",
    "    38:'NO STOCK',\n",
    "    39:'Damged2',\n",
    "    40:'Tabarbour',\n",
    "    41:'On Hold'\n",
    "   }\n",
    "\n",
    "\n",
    "\n",
    "\n",
    "\n",
    "# Data\n",
    "df = pd.DataFrame()\n",
    "# Column for branches\n",
    "df['Branches'] = [branch for branch in branches_dict.values()]"
   ]
  },
  {
   "cell_type": "code",
   "execution_count": 3,
   "id": "9c46e766",
   "metadata": {},
   "outputs": [],
   "source": [
    "sales.rename(columns={'VHFNo':'VHFNO'}, inplace=True)"
   ]
  },
  {
   "cell_type": "code",
   "execution_count": 4,
   "id": "179a491e",
   "metadata": {},
   "outputs": [],
   "source": [
    "sales['P.Key'] = (sales['PosNo'].astype(str) + ' ' +\n",
    "                  sales['VHFDate'].astype(str) + ' ' +\n",
    "                  sales['VHFNO'].astype(str) + ' ' +\n",
    "                  sales['USERNAME'].astype(str) + ' ' +\n",
    "                  sales['TYPE'].astype(str)\n",
    "                 )"
   ]
  },
  {
   "cell_type": "code",
   "execution_count": 5,
   "id": "ef612d7e",
   "metadata": {},
   "outputs": [],
   "source": [
    "items['P.Key'] = (items['POSNO'].astype(str) + ' ' +\n",
    "                  items['VHFDATE'].astype(str) + ' ' +\n",
    "                  items['VHFNO'].astype(str) + ' ' +\n",
    "                  items['USERNAME'].astype(str) + ' ' +\n",
    "                  items['TYPE'].astype(str)\n",
    "                 )"
   ]
  },
  {
   "cell_type": "code",
   "execution_count": 6,
   "id": "19888d49",
   "metadata": {},
   "outputs": [],
   "source": [
    "items['Net Sales'] = items['TOTAL'] - items['DISCOUNT'] - items['TAXAMT']"
   ]
  },
  {
   "cell_type": "code",
   "execution_count": 7,
   "id": "527bc1ec",
   "metadata": {},
   "outputs": [],
   "source": [
    "# Function that returns sums of a measure for each branch\n",
    "# metric: column such as Total Sales, Discount\n",
    "# sales_type: Choosing type of sale (Sales by default)\n",
    "# return: list of sums\n",
    "def get_sums(metric, sales_type='Sales'):\n",
    "    list_of_metric = []\n",
    "    # temporary table filtering sales type\n",
    "    temp=items.loc[items['TYPE'] == sales_type]\n",
    "    # Going through each branch number\n",
    "    for i in branches_dict.keys():\n",
    "        tempo=temp.loc[temp['POSNO'] == i]\n",
    "        # Add sum of measure to a list\n",
    "        list_of_metric.append(sum(tempo[metric]))\n",
    "    return list_of_metric\n",
    "\n",
    "def get_net_sums(metric):\n",
    "    list_of_metric = []\n",
    "    # Going through each branch number\n",
    "    for i in branches_dict.keys():\n",
    "        tempo=items.loc[items['POSNO'] == i]\n",
    "        # Add sum of measure to a list\n",
    "        list_of_metric.append(sum(tempo[metric]))\n",
    "    return list_of_metric\n",
    "\n",
    "# Generate the following columns' sums\n",
    "Total_Sales = get_sums('TOTAL')\n",
    "Returns = get_sums('TOTAL', sales_type='Return Sales')\n",
    "Discount = get_net_sums('DISCOUNT')\n",
    "#Discount_Returns = get_sums('DISCOUNT', sales_type='Return Sales')\n",
    "Taxes = get_net_sums('TAXAMT')\n",
    "#Taxes_Returns = get_sums('TAXAMT', sales_type='Return Sales')\n",
    "Net_Sales = get_net_sums('Net Sales')\n"
   ]
  },
  {
   "cell_type": "code",
   "execution_count": 8,
   "id": "4411075b",
   "metadata": {},
   "outputs": [],
   "source": [
    "# Get number of invoices for each branch\n",
    "number_of_invoices_for_each_branch = []\n",
    "# temporary table filtering sales type\n",
    "temp_sales=sales.loc[sales['TYPE'] == 'Sales']\n",
    "temp_rets=sales.loc[sales['TYPE'] == 'Return Sales']\n",
    "# Going through each branch number\n",
    "for i in branches_dict.keys():\n",
    "    tempo=temp_sales.loc[temp_sales['PosNo'] == i]\n",
    "    tempoo=temp_rets.loc[temp_rets['PosNo'] == i]\n",
    "    sales_len = len(tempo['P.Key'].unique())\n",
    "    rets_len = len(tempoo['P.Key'].unique())\n",
    "    num_of_invoices = sales_len - rets_len\n",
    "    # Extract number of invoices\n",
    "    number_of_invoices_for_each_branch.append(num_of_invoices)\n",
    "\n",
    "# Function that adds to created table the metrics\n",
    "def add_to_table(variable, column_name):\n",
    "    df[column_name] = [sums for sums in variable]"
   ]
  },
  {
   "cell_type": "code",
   "execution_count": 9,
   "id": "678710c7",
   "metadata": {},
   "outputs": [],
   "source": [
    "# Formualate the table\n",
    "add_to_table(Total_Sales, 'Total Sales')\n",
    "add_to_table(Returns, 'Returns')\n",
    "df['Returns'] = abs(df['Returns'])\n",
    "df['Return Ratio'] = df['Returns']/df['Total Sales']\n",
    "add_to_table(Discount, 'Discount')\n",
    "df['Discount Ratio'] = df['Discount']/df['Total Sales']\n",
    "add_to_table(Taxes, 'Taxes')\n",
    "add_to_table(Net_Sales, 'Net Sales')\n",
    "add_to_table(number_of_invoices_for_each_branch, '# of Invoices')\n",
    "df['Avg Invoice'] = df['Net Sales']/df['# of Invoices']"
   ]
  },
  {
   "cell_type": "code",
   "execution_count": 10,
   "id": "cece4326",
   "metadata": {},
   "outputs": [],
   "source": [
    "new_df = pd.DataFrame(columns=[df.columns])"
   ]
  },
  {
   "cell_type": "code",
   "execution_count": 11,
   "id": "41a4ad11",
   "metadata": {},
   "outputs": [],
   "source": [
    "branch_list=['Khalda','Abdoun','J.Amman 2','Madinah 2','Fifth Circle', 'Specialist 1',\n",
    "            'Abdoun 2', 'Yasmin', 'Wadi Saqra', 'Taybah', 'Rabieah', 'Shmesani 1','Yadodah',\n",
    "            'Madinah 1', 'Ghosheh St.', 'J.Amman 3', 'Wehdat', 'Specialist 2', 'Dabouq',\n",
    "            'Malyah 2', 'Abdoun 3', 'J.Amman 4', 'Airport', 'Ayla','Tabarbour','Airport 2','ZAIN BRANCH','ISRA HOSPITAL BRANCH',\n",
    "            'Tender', 'Insurance', 'Warehouse1', 'NO STOCK','Rawhi Wellness']"
   ]
  },
  {
   "cell_type": "code",
   "execution_count": 12,
   "id": "13d2caa7",
   "metadata": {},
   "outputs": [],
   "source": [
    "new_df=df[df['Branches'] == 'J.Amman']\n",
    "for branch in branch_list:\n",
    "    new_df = pd.concat([new_df, df[df['Branches'] == branch]])"
   ]
  },
  {
   "cell_type": "code",
   "execution_count": 13,
   "id": "1ce4d977",
   "metadata": {},
   "outputs": [],
   "source": [
    "newest_df = new_df.reset_index()"
   ]
  },
  {
   "cell_type": "code",
   "execution_count": 14,
   "id": "5a1a6388",
   "metadata": {},
   "outputs": [],
   "source": [
    "cards=['كابيتال بنك -بطاقات ائتمان','كابيتال بنك -بطاقات ائتمان','كابيتال بنك -بطاقات ائتمان','MEPS','AMERICAN EXPRESS','موبي كاش العربي',\n",
    "      'CAPITAL BANK -CREDIT CARD','ARAB ISLAMIC INTERNATIONAL BANK','AMEX-NO STOCK', 'CAPITAL BANK - CREDIT CARD - NO STOCK',\n",
    "      'MOBI CASH -NO STOCK','شركة الشرق الاوسط لخدمات الدفع-MEPS','MEPS -NO STOCK','امريكان اكسبرس',\n",
    "      'MOBI CASH ARAB BANK','MOBI CASH  -NO STOCK','MOBI CASH ARB BANK', 'كابحتاء بؤك -بطاقات ائتأاؤ', 'MEPS-NO STOCK']\n",
    "\n",
    "sales_details = pd.DataFrame(columns=['Cash', 'Insurance', 'Credit(cards)', 'Credit(customers)'])"
   ]
  },
  {
   "cell_type": "code",
   "execution_count": 15,
   "id": "763c99dd",
   "metadata": {},
   "outputs": [],
   "source": [
    "# Filling sales details to compare between cash, credit and insurance\n",
    "\n",
    "# Merge items and sales \n",
    "inner_join = pd.merge(items, \n",
    "                      sales, \n",
    "                      on ='P.Key', \n",
    "                      how ='inner')\n"
   ]
  },
  {
   "cell_type": "code",
   "execution_count": 16,
   "id": "07c5e523",
   "metadata": {},
   "outputs": [],
   "source": [
    "# Adds net sales to a column\n",
    "inner_join['Net Sales'] = inner_join['TOTAL_x'] - inner_join['DISCOUNT'] - inner_join['TAXAMT']"
   ]
  },
  {
   "cell_type": "code",
   "execution_count": 17,
   "id": "2917515e",
   "metadata": {},
   "outputs": [],
   "source": [
    "cash_temp=inner_join.loc[inner_join['PAYTYPE'] == 'Cash']\n",
    "cash_sum = sum(cash_temp['Net Sales'])"
   ]
  },
  {
   "cell_type": "code",
   "execution_count": 18,
   "id": "fbb2dd2b",
   "metadata": {},
   "outputs": [],
   "source": [
    "cash_temp=inner_join.loc[inner_join['PAYTYPE'] == 'Cash']\n",
    "cash_sum = sum(cash_temp['Net Sales'])\n",
    "\n",
    "ins_temp=inner_join.loc[(inner_join['PAYTYPE'] == 'Insurance') |\n",
    "                        (inner_join['PAYTYPE'] == 'Cash,Insurance') |\n",
    "                        (inner_join['PAYTYPE'] == 'Credit,Insurance') |\n",
    "                        (inner_join['PAYTYPE'] == 'Cash,Credit,Insurance')]\n",
    "ins_sum=sum(ins_temp['Net Sales'])\n",
    "\n",
    "credit=inner_join.loc[(inner_join['PAYTYPE'] == 'Credit') |\n",
    "                      (inner_join['PAYTYPE'] == 'Cash,Credit')]\n",
    "\n"
   ]
  },
  {
   "cell_type": "code",
   "execution_count": 19,
   "id": "d6bacc8f",
   "metadata": {},
   "outputs": [],
   "source": [
    "credit_new = credit.reset_index()"
   ]
  },
  {
   "cell_type": "code",
   "execution_count": 20,
   "id": "fb900c86",
   "metadata": {},
   "outputs": [],
   "source": [
    "credit_cust_sums = 0\n",
    "credit_cards_sums = 0\n",
    "leng = len(credit_new)\n",
    "for i in range(0,leng):\n",
    "    row = credit_new.iloc[i]\n",
    "    if row['CUSTOMERNAME'] in cards:\n",
    "        credit_cards_sums = credit_cards_sums + credit_new['Net Sales'][i]\n",
    "    else:\n",
    "        credit_cust_sums = credit_cust_sums + credit_new['Net Sales'][i]"
   ]
  },
  {
   "cell_type": "code",
   "execution_count": 21,
   "id": "72596233",
   "metadata": {
    "scrolled": true
   },
   "outputs": [],
   "source": [
    "sales_details['Cash'] = [cash_sum]\n",
    "sales_details['Insurance'] = [ins_sum]\n",
    "sales_details['Credit(cards)'] = [credit_cards_sums]\n",
    "sales_details['Credit(customers)'] = [credit_cust_sums]"
   ]
  },
  {
   "cell_type": "code",
   "execution_count": 22,
   "id": "d35af019",
   "metadata": {},
   "outputs": [],
   "source": [
    "tax_dets = inner_join.groupby('TAXABLE')['Net Sales'].sum()"
   ]
  },
  {
   "cell_type": "code",
   "execution_count": 23,
   "id": "f1399a0b",
   "metadata": {},
   "outputs": [],
   "source": [
    "tax_details = pd.DataFrame(tax_dets)"
   ]
  },
  {
   "cell_type": "markdown",
   "id": "36d14b59",
   "metadata": {},
   "source": [
    "### Writing to Excel Sheet"
   ]
  },
  {
   "cell_type": "code",
   "execution_count": 24,
   "id": "b5fe17db",
   "metadata": {},
   "outputs": [],
   "source": [
    "if week_day == 'Saturday':\n",
    "    ts_column = 'C'\n",
    "    ret_column = 'D'\n",
    "    disc_column = 'F'\n",
    "    tax_column = 'H'\n",
    "    inv_column = 'L'\n",
    "    if day_no == 1:\n",
    "        row = 3\n",
    "    elif (day_no > 1) & (day_no < 9):\n",
    "        row=40\n",
    "    elif (day_no > 8) & (day_no < 16):\n",
    "        row=77\n",
    "    elif (day_no > 15) & (day_no < 23):\n",
    "        row=114\n",
    "    elif (day_no > 22) & (day_no < 30):\n",
    "        row=151\n",
    "    elif day_no > 29:\n",
    "        row=188\n",
    "        \n",
    "elif week_day == 'Sunday':\n",
    "    ts_column = 'Q'\n",
    "    ret_column = 'R'\n",
    "    disc_column = 'T'\n",
    "    tax_column = 'V'\n",
    "    inv_column = 'Z'\n",
    "    if (day_no > 0) & (day_no < 3):\n",
    "        row = 3\n",
    "    elif (day_no > 2) & (day_no < 10):\n",
    "        row=40\n",
    "    elif (day_no > 9) & (day_no < 17):\n",
    "        row=77\n",
    "    elif (day_no > 16) & (day_no < 24):\n",
    "        row=114\n",
    "    elif (day_no > 23) & (day_no < 31):\n",
    "        row=151\n",
    "    elif day_no > 30:\n",
    "        row=188\n",
    "        \n",
    "elif week_day == 'Monday':\n",
    "    ts_column = 'AE'\n",
    "    ret_column = 'AF'\n",
    "    disc_column = 'AH'\n",
    "    tax_column = 'AJ'\n",
    "    inv_column = 'AN'\n",
    "    if (day_no > 0) & (day_no < 4):\n",
    "        row = 3\n",
    "    elif (day_no > 3) & (day_no < 11):\n",
    "        row=40\n",
    "    elif (day_no > 10) & (day_no < 18):\n",
    "        row=77\n",
    "    elif (day_no > 17) & (day_no < 25):\n",
    "        row=114\n",
    "    elif (day_no > 24) & (day_no < 32):\n",
    "        row=151\n",
    "\n",
    "elif week_day == 'Tuesday':\n",
    "    ts_column = 'AS'\n",
    "    ret_column = 'AT'\n",
    "    disc_column = 'AV'\n",
    "    tax_column = 'AX'\n",
    "    inv_column = 'BB'\n",
    "    if (day_no > 0) & (day_no < 5):\n",
    "        row = 3\n",
    "    elif (day_no > 4) & (day_no < 12):\n",
    "        row=40\n",
    "    elif (day_no > 11) & (day_no < 19):\n",
    "        row=77\n",
    "    elif (day_no > 18) & (day_no < 26):\n",
    "        row=114\n",
    "    elif (day_no > 25) & (day_no < 32):\n",
    "        row=151\n",
    "        \n",
    "elif week_day == 'Wednesday':\n",
    "    ts_column = 'BG'\n",
    "    ret_column = 'BH'\n",
    "    disc_column = 'BJ'\n",
    "    tax_column = 'BL'\n",
    "    inv_column = 'BP'\n",
    "    if (day_no > 0) & (day_no < 6):\n",
    "        row = 3\n",
    "    elif (day_no > 5) & (day_no < 13):\n",
    "        row=40\n",
    "    elif (day_no > 12) & (day_no < 20):\n",
    "        row=77\n",
    "    elif (day_no > 19) & (day_no < 27):\n",
    "        row=114\n",
    "    elif (day_no > 26) & (day_no < 32):\n",
    "        row=151\n",
    "        \n",
    "elif week_day == 'Thursday':\n",
    "    ts_column = 'BU'\n",
    "    ret_column = 'BV'\n",
    "    disc_column = 'BX'\n",
    "    tax_column = 'BZ'\n",
    "    inv_column = 'CD'\n",
    "    if (day_no > 0) & (day_no < 7):\n",
    "        row = 3\n",
    "    elif (day_no > 6) & (day_no < 14):\n",
    "        row=40\n",
    "    elif (day_no > 13) & (day_no < 21):\n",
    "        row=77\n",
    "    elif (day_no > 20) & (day_no < 28):\n",
    "        row=114\n",
    "    elif (day_no > 27) & (day_no < 32):\n",
    "        row=151\n",
    "        \n",
    "elif week_day == 'Friday':\n",
    "    ts_column = 'CI'\n",
    "    ret_column = 'CJ'\n",
    "    disc_column = 'CL'\n",
    "    tax_column = 'CN'\n",
    "    inv_column = 'CR'\n",
    "    if (day_no > 0) & (day_no < 8):\n",
    "        row = 3\n",
    "    elif (day_no > 7) & (day_no < 15):\n",
    "        row=40\n",
    "    elif (day_no > 14) & (day_no < 22):\n",
    "        row=114\n",
    "    elif (day_no > 21) & (day_no < 29):\n",
    "        row=151\n",
    "    elif (day_no > 28) & (day_no < 32):\n",
    "        row=188"
   ]
  },
  {
   "cell_type": "markdown",
   "id": "0b0369d5",
   "metadata": {},
   "source": [
    "### Writing Details"
   ]
  },
  {
   "cell_type": "code",
   "execution_count": 25,
   "id": "8d408bf7",
   "metadata": {},
   "outputs": [],
   "source": [
    "pay_cash_column = 'AN'\n",
    "pay_ins_column = 'AO'\n",
    "pay_card_column = 'AP'\n",
    "pay_cust_column = 'AQ'\n",
    "\n",
    "tax_0_column = 'AU'\n",
    "tax_1_column = 'AV'\n",
    "tax_4_column = 'AW'\n",
    "tax_7_column = 'AX'\n",
    "tax_16_column = 'AY'\n",
    "\n",
    "sales_ts_column = 'BC'\n",
    "sales_ret_column = 'BD'\n",
    "sales_tax_column = 'BE'\n",
    "sales_disc_column = 'BF'\n",
    "\n",
    "details_starting_row = 230"
   ]
  },
  {
   "cell_type": "code",
   "execution_count": 26,
   "id": "88e928e3",
   "metadata": {},
   "outputs": [
    {
     "data": {
      "text/plain": [
       "245"
      ]
     },
     "execution_count": 26,
     "metadata": {},
     "output_type": "execute_result"
    }
   ],
   "source": [
    "detail_row = details_starting_row + (day_no-1)\n",
    "detail_row"
   ]
  },
  {
   "cell_type": "code",
   "execution_count": 27,
   "id": "aeb2e1e8",
   "metadata": {},
   "outputs": [],
   "source": [
    "import openpyxl as xl\n",
    "daily_sales_file = xl.load_workbook('Daily Sales Report.xlsx')\n",
    "sheet = daily_sales_file[sales_date.strftime('%B')]\n",
    "\n",
    "idx=0\n",
    "for i in range(row, row + 32):\n",
    "    sheet[ts_column+str(i)] = newest_df['Total Sales'][idx]\n",
    "    sheet[ret_column+str(i)] = newest_df['Returns'][idx]\n",
    "    sheet[disc_column+str(i)] = newest_df['Discount'][idx]\n",
    "    sheet[tax_column+str(i)] = newest_df['Taxes'][idx]\n",
    "    sheet[inv_column+str(i)] = newest_df['# of Invoices'][idx]\n",
    "    idx += 1"
   ]
  },
  {
   "cell_type": "code",
   "execution_count": 28,
   "id": "69c6fa3b",
   "metadata": {},
   "outputs": [],
   "source": [
    "sheet[pay_cash_column+str(detail_row)] = sales_details['Cash'][0]\n",
    "sheet[pay_ins_column+str(detail_row)] = sales_details['Insurance'][0]\n",
    "sheet[pay_card_column+str(detail_row)] = sales_details['Credit(cards)'][0]\n",
    "sheet[pay_cust_column+str(detail_row)] = sales_details['Credit(customers)'][0]"
   ]
  },
  {
   "cell_type": "code",
   "execution_count": 29,
   "id": "9fdb5001",
   "metadata": {},
   "outputs": [],
   "source": [
    "if 0 in tax_details.index:\n",
    "    sheet[tax_0_column+str(detail_row)] = tax_details['Net Sales'][0]\n",
    "if 1 in tax_details.index:\n",
    "    sheet[tax_1_column+str(detail_row)] = tax_details['Net Sales'][1]\n",
    "sheet[tax_4_column+str(detail_row)] = tax_details['Net Sales'][4]\n",
    "if 7 in tax_details.index:\n",
    "    sheet[tax_7_column+str(detail_row)] = tax_details['Net Sales'][7]\n",
    "sheet[tax_16_column+str(detail_row)] = tax_details['Net Sales'][16]"
   ]
  },
  {
   "cell_type": "code",
   "execution_count": 30,
   "id": "b056ad8e",
   "metadata": {},
   "outputs": [],
   "source": [
    "sheet[sales_ts_column+str(detail_row)] = sum(newest_df['Total Sales'])\n",
    "sheet[sales_ret_column+str(detail_row)] = sum(newest_df['Returns'])\n",
    "sheet[sales_tax_column+str(detail_row)] = sum(newest_df['Taxes'])\n",
    "sheet[sales_disc_column+str(detail_row)] = sum(newest_df['Discount'])"
   ]
  },
  {
   "cell_type": "code",
   "execution_count": 31,
   "id": "168e2c80",
   "metadata": {},
   "outputs": [],
   "source": [
    "daily_sales_file.save('Daily Sales Report.xlsx')"
   ]
  },
  {
   "cell_type": "markdown",
   "id": "0133f2f7",
   "metadata": {},
   "source": [
    "### Target Achieved All"
   ]
  },
  {
   "cell_type": "code",
   "execution_count": 32,
   "id": "038cc165",
   "metadata": {},
   "outputs": [],
   "source": [
    "target_ach_file = xl.load_workbook('Branches monthly target - 2023 All Branches.xlsx')\n",
    "sheet = target_ach_file[sales_date.strftime('%b')]"
   ]
  },
  {
   "cell_type": "code",
   "execution_count": 33,
   "id": "8e9d7bbe",
   "metadata": {},
   "outputs": [],
   "source": [
    "if day_no < 8:\n",
    "    day_column = {1:'A', 2:'B', 3:'C', 4:'D', 5:'E', 6:'F', 7:'G'}\n",
    "    all_row = 2\n",
    "elif (day_no > 7) & (day_no < 15):\n",
    "    day_column = {8:'A', 9:'B', 10:'C', 11:'D', 12:'E', 13:'F', 14:'G'}\n",
    "    all_row = 4\n",
    "elif (day_no > 14) & (day_no < 22):\n",
    "    day_column = {15:'A', 16:'B', 17:'C', 18:'D', 19:'E', 20:'F', 21:'G'}\n",
    "    all_row = 6\n",
    "elif (day_no > 21) & (day_no < 29):\n",
    "    day_column = {22:'A', 23:'B', 24:'C', 25:'D', 26:'E', 27:'F', 28:'G'}\n",
    "    all_row = 8\n",
    "else:\n",
    "    day_column = {29:'A', 30:'B', 31:'C'}\n",
    "    all_row = 10\n",
    "    \n",
    "get_column = day_column[day_no]"
   ]
  },
  {
   "cell_type": "code",
   "execution_count": 34,
   "id": "eaaba6b8",
   "metadata": {},
   "outputs": [],
   "source": [
    "sheet[get_column+str(all_row)] = sum(newest_df.loc[newest_df.index < 27]['Net Sales'])"
   ]
  },
  {
   "cell_type": "code",
   "execution_count": 35,
   "id": "f0c3c4b2",
   "metadata": {},
   "outputs": [],
   "source": [
    "import calendar\n",
    "sheet['G12'] = '='+get_column+str(all_row)+'/($A$12/'+str(calendar.monthrange(sales_date.year, sales_date.month)[1])+')'"
   ]
  },
  {
   "cell_type": "code",
   "execution_count": 36,
   "id": "3992d17f",
   "metadata": {},
   "outputs": [],
   "source": [
    "sheet['H11'] = day_no"
   ]
  },
  {
   "cell_type": "code",
   "execution_count": 37,
   "id": "bb9fb09a",
   "metadata": {},
   "outputs": [],
   "source": [
    "target_ach_file.save('Branches monthly target - 2023 All Branches.xlsx')"
   ]
  },
  {
   "cell_type": "markdown",
   "id": "f25a6bca",
   "metadata": {},
   "source": [
    "### Branch Managers"
   ]
  },
  {
   "cell_type": "markdown",
   "id": "6d6e7781",
   "metadata": {},
   "source": [
    "#### Dr. Dr.3"
   ]
  },
  {
   "cell_type": "markdown",
   "id": "cb0cd116",
   "metadata": {},
   "source": [
    "##### Monthly Target Sheet"
   ]
  },
  {
   "cell_type": "code",
   "execution_count": 38,
   "id": "93cb5c56",
   "metadata": {},
   "outputs": [],
   "source": [
    "dr_Dr.3_target = xl.load_workbook('Branches monthly target - 2023 Dr. Dr.3.xlsx')\n",
    "sheet = dr_Dr.3_target[sales_date.strftime('%b')]"
   ]
  },
  {
   "cell_type": "code",
   "execution_count": 39,
   "id": "5d568b8b",
   "metadata": {},
   "outputs": [],
   "source": [
    "if day_no < 8:\n",
    "    day_column = {1:'B', 2:'C', 3:'D', 4:'E', 5:'F', 6:'G', 7:'H'}\n",
    "    dr_Dr.3_row = 2\n",
    "elif (day_no > 7) & (day_no < 15):\n",
    "    day_column = {8:'B', 9:'C', 10:'D', 11:'E', 12:'F', 13:'G', 14:'H'}\n",
    "    dr_Dr.3_row = 10\n",
    "elif (day_no > 14) & (day_no < 22):\n",
    "    day_column = {15:'B', 16:'C', 17:'D', 18:'E', 19:'F', 20:'G', 21:'H'}\n",
    "    dr_Dr.3_row = 18\n",
    "elif (day_no > 21) & (day_no < 29):\n",
    "    day_column = {22:'B', 23:'C', 24:'D', 25:'E', 26:'F', 27:'G', 28:'H'}\n",
    "    dr_Dr.3_row = 26\n",
    "else:\n",
    "    day_column = {29:'B', 30:'C', 31:'D'}\n",
    "    dr_Dr.3_row = 34\n",
    "    \n",
    "get_column = day_column[day_no]\n",
    "dr_Dr.3_branches = ['Abdoun', 'Abdoun 2', 'Abdoun 3', 'Fifth Circle', 'Wadi Saqra']"
   ]
  },
  {
   "cell_type": "code",
   "execution_count": 40,
   "id": "9b457982",
   "metadata": {},
   "outputs": [],
   "source": [
    "for branch in dr_Dr.3_branches:\n",
    "    dr_Dr.3_net_sales = newest_df.loc[newest_df['Branches'] == branch]['Net Sales'].values[0]\n",
    "    sheet[get_column+str(dr_Dr.3_row)] = dr_Dr.3_net_sales\n",
    "    dr_Dr.3_row = dr_Dr.3_row+1"
   ]
  },
  {
   "cell_type": "code",
   "execution_count": 41,
   "id": "c8bc2aee",
   "metadata": {},
   "outputs": [],
   "source": [
    "sheet['L1'] = day_no"
   ]
  },
  {
   "cell_type": "code",
   "execution_count": 42,
   "id": "47f3959a",
   "metadata": {},
   "outputs": [],
   "source": [
    "dr_Dr.3_target.save('Branches monthly target - 2023 Dr. Dr.3.xlsx')"
   ]
  },
  {
   "cell_type": "markdown",
   "id": "be0ad726",
   "metadata": {},
   "source": [
    "##### Avg Invoice Sheet"
   ]
  },
  {
   "cell_type": "code",
   "execution_count": 43,
   "id": "b91c757c",
   "metadata": {},
   "outputs": [],
   "source": [
    "dr_Dr.3_avg_inv = xl.load_workbook('Branches Avg Invoice - 2023 Dr. Dr.3.xlsx')\n",
    "sheet_avg = dr_Dr.3_avg_inv[sales_date.strftime('%b')]"
   ]
  },
  {
   "cell_type": "code",
   "execution_count": 44,
   "id": "df225f10",
   "metadata": {},
   "outputs": [],
   "source": [
    "if day_no < 8:\n",
    "    day_column = {1:'B', 2:'C', 3:'D', 4:'E', 5:'F', 6:'G', 7:'H'}\n",
    "    dr_Dr.3_row = 2\n",
    "elif (day_no > 7) & (day_no < 15):\n",
    "    day_column = {8:'B', 9:'C', 10:'D', 11:'E', 12:'F', 13:'G', 14:'H'}\n",
    "    dr_Dr.3_row = 10\n",
    "elif (day_no > 14) & (day_no < 22):\n",
    "    day_column = {15:'B', 16:'C', 17:'D', 18:'E', 19:'F', 20:'G', 21:'H'}\n",
    "    dr_Dr.3_row = 18\n",
    "elif (day_no > 21) & (day_no < 29):\n",
    "    day_column = {22:'B', 23:'C', 24:'D', 25:'E', 26:'F', 27:'G', 28:'H'}\n",
    "    dr_Dr.3_row = 26\n",
    "else:\n",
    "    day_column = {29:'B', 30:'C', 31:'D'}\n",
    "    dr_Dr.3_row = 34\n",
    "    \n",
    "get_column = day_column[day_no]"
   ]
  },
  {
   "cell_type": "code",
   "execution_count": 45,
   "id": "4c848071",
   "metadata": {},
   "outputs": [],
   "source": [
    "for branch in dr_Dr.3_branches:\n",
    "    dr_Dr.3_avg_inv_no = newest_df.loc[newest_df['Branches'] == branch]['Avg Invoice'].values[0]\n",
    "    sheet_avg[get_column+str(dr_Dr.3_row)] = dr_Dr.3_avg_inv_no\n",
    "    dr_Dr.3_row = dr_Dr.3_row+1"
   ]
  },
  {
   "cell_type": "code",
   "execution_count": 46,
   "id": "f4d30a18",
   "metadata": {},
   "outputs": [],
   "source": [
    "dr_Dr.3_avg_inv.save('Branches Avg Invoice - 2023 Dr. Dr.3.xlsx')"
   ]
  },
  {
   "cell_type": "markdown",
   "id": "29361e9f",
   "metadata": {},
   "source": [
    "#### Dr. Dr.2"
   ]
  },
  {
   "cell_type": "markdown",
   "id": "027a4ee9",
   "metadata": {},
   "source": [
    "##### Monthly Target"
   ]
  },
  {
   "cell_type": "code",
   "execution_count": 47,
   "id": "d42aca87",
   "metadata": {},
   "outputs": [],
   "source": [
    "dr_Dr.2_target = xl.load_workbook('Branches monthly target - 2023 Dr. Dr.2.xlsx')\n",
    "sheet = dr_Dr.2_target[sales_date.strftime('%b')]\n",
    "\n",
    "dr_Dr.2_branches = ['Ghosheh St.', 'Madinah 1', 'Madinah 2', 'Malyah 2', 'Taybah', 'Wehdat', 'Yadodah', 'Yasmin']"
   ]
  },
  {
   "cell_type": "code",
   "execution_count": 48,
   "id": "146fb861",
   "metadata": {},
   "outputs": [],
   "source": [
    "if day_no < 8:\n",
    "    dr_Dr.2_row = 2\n",
    "elif (day_no > 7) & (day_no < 15):\n",
    "    dr_Dr.2_row = 13\n",
    "elif (day_no > 14) & (day_no < 22):\n",
    "    dr_Dr.2_row = 24\n",
    "elif (day_no > 21) & (day_no < 29):\n",
    "    dr_Dr.2_row = 35\n",
    "else:\n",
    "    dr_Dr.2_row = 46"
   ]
  },
  {
   "cell_type": "code",
   "execution_count": 49,
   "id": "da918b88",
   "metadata": {},
   "outputs": [],
   "source": [
    "for branch in dr_Dr.2_branches:\n",
    "    dr_Dr.2_net_sales = newest_df.loc[newest_df['Branches'] == branch]['Net Sales'].values[0]\n",
    "    sheet[get_column+str(dr_Dr.2_row)] = dr_Dr.2_net_sales\n",
    "    dr_Dr.2_row = dr_Dr.2_row+1"
   ]
  },
  {
   "cell_type": "code",
   "execution_count": 50,
   "id": "e2b834e5",
   "metadata": {},
   "outputs": [],
   "source": [
    "sheet['L1'] = day_no"
   ]
  },
  {
   "cell_type": "code",
   "execution_count": 51,
   "id": "07b0b3ec",
   "metadata": {},
   "outputs": [],
   "source": [
    "dr_Dr.2_target.save('Branches monthly target - 2023 Dr. Dr.2.xlsx')"
   ]
  },
  {
   "cell_type": "markdown",
   "id": "e12fa3cb",
   "metadata": {},
   "source": [
    "##### Avg Invoice"
   ]
  },
  {
   "cell_type": "code",
   "execution_count": 52,
   "id": "4bd06752",
   "metadata": {},
   "outputs": [],
   "source": [
    "dr_Dr.2_avg_inv = xl.load_workbook('Branches Avg Invoice - 2023 Dr. Dr.2.xlsx')\n",
    "sheet_avg = dr_Dr.2_avg_inv[sales_date.strftime('%b')]\n",
    "\n",
    "dr_Dr.2_branches = ['Ghosheh St.', 'Madinah 1', 'Madinah 2', 'Malyah 2', 'Taybah', 'Wehdat', 'Yadodah', 'Yasmin']"
   ]
  },
  {
   "cell_type": "code",
   "execution_count": 53,
   "id": "b8f04daa",
   "metadata": {},
   "outputs": [],
   "source": [
    "if day_no < 8:\n",
    "    dr_Dr.2_row = 2\n",
    "elif (day_no > 7) & (day_no < 15):\n",
    "    dr_Dr.2_row = 13\n",
    "elif (day_no > 14) & (day_no < 22):\n",
    "    dr_Dr.2_row = 24\n",
    "elif (day_no > 21) & (day_no < 29):\n",
    "    dr_Dr.2_row = 35\n",
    "else:\n",
    "    dr_Dr.2_row = 46"
   ]
  },
  {
   "cell_type": "code",
   "execution_count": 54,
   "id": "75c084e0",
   "metadata": {},
   "outputs": [],
   "source": [
    "for branch in dr_Dr.2_branches:\n",
    "    dr_Dr.2_avg_inv_no = newest_df.loc[newest_df['Branches'] == branch]['Avg Invoice'].values[0]\n",
    "    sheet_avg[get_column+str(dr_Dr.2_row)] = dr_Dr.2_avg_inv_no\n",
    "    dr_Dr.2_row = dr_Dr.2_row+1"
   ]
  },
  {
   "cell_type": "code",
   "execution_count": 55,
   "id": "70b0d73b",
   "metadata": {},
   "outputs": [],
   "source": [
    "dr_Dr.2_avg_inv.save('Branches Avg Invoice - 2023 Dr. Dr.2.xlsx')"
   ]
  },
  {
   "cell_type": "markdown",
   "id": "390f43d5",
   "metadata": {},
   "source": [
    "#### Dr. Dr.1"
   ]
  },
  {
   "cell_type": "markdown",
   "id": "4073f9f4",
   "metadata": {},
   "source": [
    "##### Monthly Target"
   ]
  },
  {
   "cell_type": "code",
   "execution_count": 56,
   "id": "48ea27aa",
   "metadata": {},
   "outputs": [],
   "source": [
    "dr_Dr.1_target = xl.load_workbook('Branches monthly target - 2023 Dr. Dr.1.xlsx')\n",
    "sheet = dr_Dr.1_target[sales_date.strftime('%b')]\n",
    "\n",
    "dr_Dr.1_branches = ['Airport', 'Airport 2', 'Dabouq',\n",
    "                     'Khalda', 'Rabieah', 'Shmesani 1', 'Tabarbour',\n",
    "                     'Specialist 1', 'Specialist 2']"
   ]
  },
  {
   "cell_type": "code",
   "execution_count": 57,
   "id": "6c2dc202",
   "metadata": {},
   "outputs": [],
   "source": [
    "if day_no < 8:\n",
    "    dr_Dr.1_row = 2\n",
    "elif (day_no > 7) & (day_no < 15):\n",
    "    dr_Dr.1_row = 17\n",
    "elif (day_no > 14) & (day_no < 22):\n",
    "    dr_Dr.1_row = 32\n",
    "elif (day_no > 21) & (day_no < 29):\n",
    "    dr_Dr.1_row = 47\n",
    "else:\n",
    "    dr_Dr.1_row = 62"
   ]
  },
  {
   "cell_type": "code",
   "execution_count": 58,
   "id": "2ec6983c",
   "metadata": {},
   "outputs": [],
   "source": [
    "for branch in dr_Dr.1_branches:\n",
    "    dr_Dr.1_net_sales = newest_df.loc[newest_df['Branches'] == branch]['Net Sales'].values[0]\n",
    "    sheet[get_column+str(dr_Dr.1_row)] = dr_Dr.1_net_sales\n",
    "    dr_Dr.1_row = dr_Dr.1_row+1"
   ]
  },
  {
   "cell_type": "code",
   "execution_count": 59,
   "id": "87f0cab5",
   "metadata": {},
   "outputs": [],
   "source": [
    "sheet['L1'] = day_no"
   ]
  },
  {
   "cell_type": "code",
   "execution_count": 60,
   "id": "6d7972bc",
   "metadata": {},
   "outputs": [],
   "source": [
    "dr_Dr.1_target.save('Branches monthly target - 2023 Dr. Dr.1.xlsx')"
   ]
  },
  {
   "cell_type": "markdown",
   "id": "d0ff0668",
   "metadata": {},
   "source": [
    "##### Avg Invoice"
   ]
  },
  {
   "cell_type": "code",
   "execution_count": 61,
   "id": "062a1609",
   "metadata": {},
   "outputs": [],
   "source": [
    "dr_Dr.1_avg_inv = xl.load_workbook('Branches Avg Invoice - 2023 Dr. Dr.1.xlsx')\n",
    "sheet_avg = dr_Dr.1_avg_inv[sales_date.strftime('%b')]\n",
    "\n",
    "dr_Dr.1_branches = ['Airport', 'Airport 2', 'Dabouq',\n",
    "                     'Khalda', 'Rabieah', 'Shmesani 1', 'Tabarbour',\n",
    "                     'Specialist 1', 'Specialist 2']"
   ]
  },
  {
   "cell_type": "code",
   "execution_count": 62,
   "id": "1080210c",
   "metadata": {},
   "outputs": [],
   "source": [
    "if day_no < 8:\n",
    "    dr_Dr.1_row = 2\n",
    "elif (day_no > 7) & (day_no < 15):\n",
    "    dr_Dr.1_row = 17\n",
    "elif (day_no > 14) & (day_no < 22):\n",
    "    dr_Dr.1_row = 32\n",
    "elif (day_no > 21) & (day_no < 29):\n",
    "    dr_Dr.1_row = 47\n",
    "else:\n",
    "    dr_Dr.1_row = 62"
   ]
  },
  {
   "cell_type": "code",
   "execution_count": 63,
   "id": "0fb4fbfb",
   "metadata": {},
   "outputs": [],
   "source": [
    "for branch in dr_Dr.1_branches:\n",
    "    dr_Dr.1_avg_inv_no = newest_df.loc[newest_df['Branches'] == branch]['Avg Invoice'].values[0]\n",
    "    sheet_avg[get_column+str(dr_Dr.1_row)] = dr_Dr.1_avg_inv_no\n",
    "    dr_Dr.1_row = dr_Dr.1_row+1"
   ]
  },
  {
   "cell_type": "code",
   "execution_count": 64,
   "id": "55da29d8",
   "metadata": {},
   "outputs": [],
   "source": [
    "dr_Dr.1_avg_inv.save('Branches Avg Invoice - 2023 Dr. Dr.1.xlsx')"
   ]
  },
  {
   "cell_type": "markdown",
   "id": "f36e3146",
   "metadata": {},
   "source": [
    "#### Dr. Sana'"
   ]
  },
  {
   "cell_type": "markdown",
   "id": "2e207164",
   "metadata": {},
   "source": [
    "##### Monthly Target"
   ]
  },
  {
   "cell_type": "code",
   "execution_count": 65,
   "id": "4bb2c38b",
   "metadata": {},
   "outputs": [],
   "source": [
    "dr_sana_target = xl.load_workbook('Branches monthly target - 2023 Dr. Dr.4.xlsx')\n",
    "sheet = dr_sana_target[sales_date.strftime('%b')]\n",
    "\n",
    "dr_sana_branches = ['J.Amman', 'J.Amman 2', 'J.Amman 3', 'J.Amman 4']"
   ]
  },
  {
   "cell_type": "code",
   "execution_count": 66,
   "id": "6fa914d6",
   "metadata": {},
   "outputs": [],
   "source": [
    "if day_no < 8:\n",
    "    dr_sana_row = 2\n",
    "elif (day_no > 7) & (day_no < 15):\n",
    "    dr_sana_row = 9\n",
    "elif (day_no > 14) & (day_no < 22):\n",
    "    dr_sana_row = 16\n",
    "elif (day_no > 21) & (day_no < 29):\n",
    "    dr_sana_row = 23\n",
    "else:\n",
    "    dr_sana_row = 30"
   ]
  },
  {
   "cell_type": "code",
   "execution_count": 67,
   "id": "e77100a4",
   "metadata": {},
   "outputs": [],
   "source": [
    "for branch in dr_sana_branches:\n",
    "    dr_sana_net_sales = newest_df.loc[newest_df['Branches'] == branch]['Net Sales'].values[0]\n",
    "    sheet[get_column+str(dr_sana_row)] = dr_sana_net_sales\n",
    "    dr_sana_row = dr_sana_row+1"
   ]
  },
  {
   "cell_type": "code",
   "execution_count": 68,
   "id": "c4758cf6",
   "metadata": {},
   "outputs": [],
   "source": [
    "sheet['L1'] = day_no"
   ]
  },
  {
   "cell_type": "code",
   "execution_count": 69,
   "id": "22e8acbe",
   "metadata": {},
   "outputs": [],
   "source": [
    "dr_sana_target.save('Branches monthly target - 2023 Dr. Dr.4.xlsx')"
   ]
  },
  {
   "cell_type": "markdown",
   "id": "53f8cdda",
   "metadata": {},
   "source": [
    "##### Avg Invoice"
   ]
  },
  {
   "cell_type": "code",
   "execution_count": 70,
   "id": "24c9687c",
   "metadata": {},
   "outputs": [],
   "source": [
    "dr_sana_avg_inv = xl.load_workbook('Branches Avg Invoice - 2023 Dr. Dr.4.xlsx')\n",
    "sheet_avg = dr_sana_avg_inv[sales_date.strftime('%b')]\n",
    "\n",
    "dr_sana_branches = ['J.Amman', 'J.Amman 2', 'J.Amman 3', 'J.Amman 4']"
   ]
  },
  {
   "cell_type": "code",
   "execution_count": 71,
   "id": "218c6158",
   "metadata": {},
   "outputs": [],
   "source": [
    "if day_no < 8:\n",
    "    dr_sana_row = 2\n",
    "elif (day_no > 7) & (day_no < 15):\n",
    "    dr_sana_row = 9\n",
    "elif (day_no > 14) & (day_no < 22):\n",
    "    dr_sana_row = 16\n",
    "elif (day_no > 21) & (day_no < 29):\n",
    "    dr_sana_row = 23\n",
    "else:\n",
    "    dr_sana_row = 30"
   ]
  },
  {
   "cell_type": "code",
   "execution_count": 72,
   "id": "eba0abc0",
   "metadata": {},
   "outputs": [],
   "source": [
    "for branch in dr_sana_branches:\n",
    "    dr_sana_avg_inv_no = newest_df.loc[newest_df['Branches'] == branch]['Avg Invoice'].values[0]\n",
    "    sheet_avg[get_column+str(dr_sana_row)] = dr_sana_avg_inv_no\n",
    "    dr_sana_row = dr_sana_row+1"
   ]
  },
  {
   "cell_type": "code",
   "execution_count": 73,
   "id": "6f1fd663",
   "metadata": {},
   "outputs": [],
   "source": [
    "dr_sana_avg_inv.save('Branches Avg Invoice - 2023 Dr. Dr.4.xlsx')"
   ]
  },
  {
   "cell_type": "code",
   "execution_count": null,
   "id": "ac5811ea",
   "metadata": {},
   "outputs": [],
   "source": []
  },
  {
   "cell_type": "code",
   "execution_count": null,
   "id": "240914f5",
   "metadata": {},
   "outputs": [],
   "source": []
  }
 ],
 "metadata": {
  "kernelspec": {
   "display_name": "Python 3 (ipykernel)",
   "language": "python",
   "name": "python3"
  },
  "language_info": {
   "codemirror_mode": {
    "name": "ipython",
    "version": 3
   },
   "file_extension": ".py",
   "mimetype": "text/x-python",
   "name": "python",
   "nbconvert_exporter": "python",
   "pygments_lexer": "ipython3",
   "version": "3.11.4"
  }
 },
 "nbformat": 4,
 "nbformat_minor": 5
}
